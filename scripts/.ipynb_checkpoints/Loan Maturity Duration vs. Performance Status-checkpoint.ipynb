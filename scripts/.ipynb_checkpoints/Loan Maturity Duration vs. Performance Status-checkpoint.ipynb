{
 "cells": [
  {
   "cell_type": "code",
   "execution_count": 14,
   "id": "255e67e2-051f-46da-80c0-3f47c2a1a06c",
   "metadata": {},
   "outputs": [
    {
     "name": "stdout",
     "output_type": "stream",
     "text": [
      "🔹 Loan Maturity Duration vs. Performance Status:\n"
     ]
    },
    {
     "data": {
      "text/html": [
       "<div>\n",
       "<style scoped>\n",
       "    .dataframe tbody tr th:only-of-type {\n",
       "        vertical-align: middle;\n",
       "    }\n",
       "\n",
       "    .dataframe tbody tr th {\n",
       "        vertical-align: top;\n",
       "    }\n",
       "\n",
       "    .dataframe thead th {\n",
       "        text-align: right;\n",
       "    }\n",
       "</style>\n",
       "<table border=\"1\" class=\"dataframe\">\n",
       "  <thead>\n",
       "    <tr style=\"text-align: right;\">\n",
       "      <th>Performing/Non Performing</th>\n",
       "      <th>N</th>\n",
       "      <th>Y</th>\n",
       "    </tr>\n",
       "    <tr>\n",
       "      <th>Loan Type</th>\n",
       "      <th></th>\n",
       "      <th></th>\n",
       "    </tr>\n",
       "  </thead>\n",
       "  <tbody>\n",
       "    <tr>\n",
       "      <th>Long-Term Loan (&gt;5 Years)</th>\n",
       "      <td>16.0</td>\n",
       "      <td>14538.0</td>\n",
       "    </tr>\n",
       "    <tr>\n",
       "      <th>Medium-Term Loan (1-5 Years)</th>\n",
       "      <td>24.0</td>\n",
       "      <td>7861.0</td>\n",
       "    </tr>\n",
       "    <tr>\n",
       "      <th>Short-Term Loan (&lt;=1 Year)</th>\n",
       "      <td>5.0</td>\n",
       "      <td>715.0</td>\n",
       "    </tr>\n",
       "    <tr>\n",
       "      <th>Unknown</th>\n",
       "      <td>0.0</td>\n",
       "      <td>282.0</td>\n",
       "    </tr>\n",
       "  </tbody>\n",
       "</table>\n",
       "</div>"
      ],
      "text/plain": [
       "Performing/Non Performing        N        Y\n",
       "Loan Type                                  \n",
       "Long-Term Loan (>5 Years)     16.0  14538.0\n",
       "Medium-Term Loan (1-5 Years)  24.0   7861.0\n",
       "Short-Term Loan (<=1 Year)     5.0    715.0\n",
       "Unknown                        0.0    282.0"
      ]
     },
     "metadata": {},
     "output_type": "display_data"
    },
    {
     "name": "stdout",
     "output_type": "stream",
     "text": [
      "Results saved successfully to: ../data/Loan_Maturity_vs_Performing_Status.xlsx\n"
     ]
    }
   ],
   "source": [
    "#  Loading Libraries and Data \n",
    "\n",
    "import pandas as pd\n",
    "from IPython.display import display\n",
    "\n",
    "#file path\n",
    "file_path = \"../data/Common Data Warehouse-Orginal.xlsx\"\n",
    "\n",
    "xls = pd.ExcelFile(file_path)\n",
    "\n",
    "instrument_df = xls.parse(\"Instrument\")  # Contains loan maturity and performance status\n",
    "\n",
    "#  Converting Date Columns to Datetime Format\n",
    "\n",
    "date_columns = [\"Effective Date\", \"Maturity Date\"]\n",
    "for col in date_columns:\n",
    "    if col in instrument_df.columns:\n",
    "        instrument_df[col] = pd.to_datetime(instrument_df[col], errors='coerce')\n",
    "\n",
    "# Calculating Loan Maturity Duration \n",
    "\n",
    "if \"Effective Date\" in instrument_df.columns and \"Maturity Date\" in instrument_df.columns:\n",
    "    instrument_df[\"Loan Duration (Days)\"] = (instrument_df[\"Maturity Date\"] - instrument_df[\"Effective Date\"]).dt.days\n",
    "\n",
    "#  Categorizing Loans as Short-Term or Long-Term\n",
    "\n",
    "def categorize_loan_duration(days):\n",
    "    \"\"\"Categorizing loans into short-term and long-term based on duration.\"\"\"\n",
    "    if pd.isna(days):\n",
    "        return \"Unknown\"\n",
    "    elif days <= 365:\n",
    "        return \"Short-Term Loan (<=1 Year)\"\n",
    "    elif days <= 1825:\n",
    "        return \"Medium-Term Loan (1-5 Years)\"\n",
    "    else:\n",
    "        return \"Long-Term Loan (>5 Years)\"\n",
    "\n",
    "if \"Loan Duration (Days)\" in instrument_df.columns:\n",
    "    instrument_df[\"Loan Type\"] = instrument_df[\"Loan Duration (Days)\"].apply(categorize_loan_duration)\n",
    "\n",
    "#  Comparing Loan Maturity with Performance Status \n",
    "\n",
    "if \"Loan Type\" in instrument_df.columns and \"Performing/Non Performing\" in instrument_df.columns:\n",
    "    loan_risk_analysis = instrument_df.groupby([\"Loan Type\", \"Performing/Non Performing\"]).agg(\n",
    "        Loan_Count=(\"Agreement ID\", \"count\")\n",
    "    ).reset_index()\n",
    "\n",
    "    # Pivot\n",
    "    loan_risk_pivot = loan_risk_analysis.pivot(index=\"Loan Type\", columns=\"Performing/Non Performing\", values=\"Loan_Count\").fillna(0)\n",
    "\n",
    "    #  Results\n",
    "    print(\"🔹 Loan Maturity Duration vs. Performance Status:\")\n",
    "    display(loan_risk_pivot)\n",
    "\n",
    "    # Saving Results to Excel\n",
    "    output_file_path = \"../data/Loan_Maturity_vs_Performing_Status.xlsx\"\n",
    "    loan_risk_pivot.to_excel(output_file_path, index=True)\n",
    "\n",
    "    print(f\"Results saved successfully to: {output_file_path}\")\n",
    "else:\n",
    "    print(\" Error: Required columns missing in dataset\")\n"
   ]
  },
  {
   "cell_type": "code",
   "execution_count": null,
   "id": "03bcf347-627f-463c-9413-6a33a8babf22",
   "metadata": {},
   "outputs": [],
   "source": []
  }
 ],
 "metadata": {
  "kernelspec": {
   "display_name": "Python 3 (ipykernel)",
   "language": "python",
   "name": "python3"
  },
  "language_info": {
   "codemirror_mode": {
    "name": "ipython",
    "version": 3
   },
   "file_extension": ".py",
   "mimetype": "text/x-python",
   "name": "python",
   "nbconvert_exporter": "python",
   "pygments_lexer": "ipython3",
   "version": "3.13.1"
  }
 },
 "nbformat": 4,
 "nbformat_minor": 5
}
